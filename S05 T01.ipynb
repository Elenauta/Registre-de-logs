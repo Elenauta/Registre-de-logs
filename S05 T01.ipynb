{
 "cells": [
  {
   "cell_type": "markdown",
   "id": "a24e8b01",
   "metadata": {},
   "source": [
    "### Transformació Registre Log amb Regular expressions"
   ]
  },
  {
   "cell_type": "markdown",
   "id": "7dd0c384",
   "metadata": {},
   "source": [
    "###### Exercici 1, 2"
   ]
  },
  {
   "cell_type": "markdown",
   "id": "253c5adb",
   "metadata": {},
   "source": [
    "Estandaritza, identifica i enumera cada un dels atributs / variables de l'estructura de l'arxiu \"Web_access_log-akumenius.com\" que trobaràs al repositori de GitHub \"Data-sources\".\\\n",
    "Neteja, preprocesa, estructura i transforma (dataframe) les dades del registre d'Accés a la web."
   ]
  },
  {
   "cell_type": "code",
   "execution_count": 1,
   "id": "2912aadb",
   "metadata": {},
   "outputs": [],
   "source": [
    "import numpy as np\n",
    "import pandas as pd\n",
    "import re"
   ]
  },
  {
   "cell_type": "code",
   "execution_count": 2,
   "id": "4b38556e",
   "metadata": {},
   "outputs": [
    {
     "data": {
      "text/html": [
       "<div>\n",
       "<style scoped>\n",
       "    .dataframe tbody tr th:only-of-type {\n",
       "        vertical-align: middle;\n",
       "    }\n",
       "\n",
       "    .dataframe tbody tr th {\n",
       "        vertical-align: top;\n",
       "    }\n",
       "\n",
       "    .dataframe thead th {\n",
       "        text-align: right;\n",
       "    }\n",
       "</style>\n",
       "<table border=\"1\" class=\"dataframe\">\n",
       "  <thead>\n",
       "    <tr style=\"text-align: right;\">\n",
       "      <th></th>\n",
       "      <th>Single_Data_Column</th>\n",
       "    </tr>\n",
       "  </thead>\n",
       "  <tbody>\n",
       "    <tr>\n",
       "      <th>0</th>\n",
       "      <td>localhost 127.0.0.1 - - [23/Feb/2014:03:10:31 ...</td>\n",
       "    </tr>\n",
       "    <tr>\n",
       "      <th>1</th>\n",
       "      <td>localhost 127.0.0.1 - - [23/Feb/2014:03:10:31 ...</td>\n",
       "    </tr>\n",
       "    <tr>\n",
       "      <th>2</th>\n",
       "      <td>localhost 127.0.0.1 - - [23/Feb/2014:03:10:31 ...</td>\n",
       "    </tr>\n",
       "    <tr>\n",
       "      <th>3</th>\n",
       "      <td>localhost 127.0.0.1 - - [23/Feb/2014:03:10:31 ...</td>\n",
       "    </tr>\n",
       "    <tr>\n",
       "      <th>4</th>\n",
       "      <td>localhost 127.0.0.1 - - [23/Feb/2014:03:10:31 ...</td>\n",
       "    </tr>\n",
       "    <tr>\n",
       "      <th>...</th>\n",
       "      <td>...</td>\n",
       "    </tr>\n",
       "    <tr>\n",
       "      <th>261868</th>\n",
       "      <td>www.akumenius.com 5.255.253.53 - - [02/Mar/201...</td>\n",
       "    </tr>\n",
       "    <tr>\n",
       "      <th>261869</th>\n",
       "      <td>www.akumenius.com 74.86.158.107 - - [02/Mar/20...</td>\n",
       "    </tr>\n",
       "    <tr>\n",
       "      <th>261870</th>\n",
       "      <td>localhost 127.0.0.1 - - [02/Mar/2014:03:10:18 ...</td>\n",
       "    </tr>\n",
       "    <tr>\n",
       "      <th>261871</th>\n",
       "      <td>localhost 127.0.0.1 - - [02/Mar/2014:03:10:18 ...</td>\n",
       "    </tr>\n",
       "    <tr>\n",
       "      <th>261872</th>\n",
       "      <td>localhost 127.0.0.1 - - [02/Mar/2014:03:10:18 ...</td>\n",
       "    </tr>\n",
       "  </tbody>\n",
       "</table>\n",
       "<p>261873 rows × 1 columns</p>\n",
       "</div>"
      ],
      "text/plain": [
       "                                       Single_Data_Column\n",
       "0       localhost 127.0.0.1 - - [23/Feb/2014:03:10:31 ...\n",
       "1       localhost 127.0.0.1 - - [23/Feb/2014:03:10:31 ...\n",
       "2       localhost 127.0.0.1 - - [23/Feb/2014:03:10:31 ...\n",
       "3       localhost 127.0.0.1 - - [23/Feb/2014:03:10:31 ...\n",
       "4       localhost 127.0.0.1 - - [23/Feb/2014:03:10:31 ...\n",
       "...                                                   ...\n",
       "261868  www.akumenius.com 5.255.253.53 - - [02/Mar/201...\n",
       "261869  www.akumenius.com 74.86.158.107 - - [02/Mar/20...\n",
       "261870  localhost 127.0.0.1 - - [02/Mar/2014:03:10:18 ...\n",
       "261871  localhost 127.0.0.1 - - [02/Mar/2014:03:10:18 ...\n",
       "261872  localhost 127.0.0.1 - - [02/Mar/2014:03:10:18 ...\n",
       "\n",
       "[261873 rows x 1 columns]"
      ]
     },
     "execution_count": 2,
     "metadata": {},
     "output_type": "execute_result"
    }
   ],
   "source": [
    "kumenius_log = pd.read_csv('Web_access_log-akumenius.com.txt', names = [\"Single_Data_Column\"])\n",
    "kumenius_log"
   ]
  },
  {
   "cell_type": "code",
   "execution_count": 3,
   "id": "c6f90305",
   "metadata": {},
   "outputs": [
    {
     "data": {
      "text/plain": [
       "pandas.core.frame.DataFrame"
      ]
     },
     "execution_count": 3,
     "metadata": {},
     "output_type": "execute_result"
    }
   ],
   "source": [
    "type(kumenius_log)"
   ]
  },
  {
   "cell_type": "code",
   "execution_count": 4,
   "id": "e72bec3b",
   "metadata": {},
   "outputs": [
    {
     "data": {
      "text/plain": [
       "(261873, 1)"
      ]
     },
     "execution_count": 4,
     "metadata": {},
     "output_type": "execute_result"
    }
   ],
   "source": [
    "kumenius_log.shape"
   ]
  },
  {
   "cell_type": "code",
   "execution_count": 5,
   "id": "b369fce0",
   "metadata": {},
   "outputs": [
    {
     "data": {
      "text/plain": [
       "2"
      ]
     },
     "execution_count": 5,
     "metadata": {},
     "output_type": "execute_result"
    }
   ],
   "source": [
    "kumenius_log.ndim"
   ]
  },
  {
   "cell_type": "code",
   "execution_count": 6,
   "id": "bdffa7a8",
   "metadata": {},
   "outputs": [
    {
     "name": "stdout",
     "output_type": "stream",
     "text": [
      "<class 'pandas.core.frame.DataFrame'>\n",
      "RangeIndex: 261873 entries, 0 to 261872\n",
      "Data columns (total 1 columns):\n",
      " #   Column              Non-Null Count   Dtype \n",
      "---  ------              --------------   ----- \n",
      " 0   Single_Data_Column  261873 non-null  object\n",
      "dtypes: object(1)\n",
      "memory usage: 2.0+ MB\n"
     ]
    }
   ],
   "source": [
    "kumenius_log.info()"
   ]
  },
  {
   "cell_type": "code",
   "execution_count": 7,
   "id": "43273525",
   "metadata": {},
   "outputs": [
    {
     "data": {
      "text/plain": [
       "Index(['Single_Data_Column'], dtype='object')"
      ]
     },
     "execution_count": 7,
     "metadata": {},
     "output_type": "execute_result"
    }
   ],
   "source": [
    "kumenius_log.columns"
   ]
  },
  {
   "cell_type": "code",
   "execution_count": 8,
   "id": "0056d816",
   "metadata": {},
   "outputs": [],
   "source": [
    "# A 'Single_Data_Column'!, with RegEx we'll find the pattern to split it"
   ]
  },
  {
   "cell_type": "code",
   "execution_count": 9,
   "id": "3c4eba36",
   "metadata": {},
   "outputs": [
    {
     "data": {
      "text/plain": [
       "'localhost 127.0.0.1 - - [23/Feb/2014:03:10:31 +0100] \"OPTIONS * HTTP/1.0\" 200 - \"-\" \"Apache (internal dummy connection)\" VLOG=-'"
      ]
     },
     "execution_count": 9,
     "metadata": {},
     "output_type": "execute_result"
    }
   ],
   "source": [
    "kumenius_log.iloc[10, 0] "
   ]
  },
  {
   "cell_type": "code",
   "execution_count": 10,
   "id": "2bfcc090",
   "metadata": {},
   "outputs": [
    {
     "data": {
      "text/html": [
       "<div>\n",
       "<style scoped>\n",
       "    .dataframe tbody tr th:only-of-type {\n",
       "        vertical-align: middle;\n",
       "    }\n",
       "\n",
       "    .dataframe tbody tr th {\n",
       "        vertical-align: top;\n",
       "    }\n",
       "\n",
       "    .dataframe thead th {\n",
       "        text-align: right;\n",
       "    }\n",
       "</style>\n",
       "<table border=\"1\" class=\"dataframe\">\n",
       "  <thead>\n",
       "    <tr style=\"text-align: right;\">\n",
       "      <th></th>\n",
       "      <th>ServerName</th>\n",
       "      <th>IP</th>\n",
       "      <th>Identity</th>\n",
       "      <th>UserID</th>\n",
       "      <th>DateTime</th>\n",
       "      <th>Request</th>\n",
       "      <th>Status</th>\n",
       "      <th>Size</th>\n",
       "      <th>Referer</th>\n",
       "      <th>UserAgent</th>\n",
       "      <th>VLOG</th>\n",
       "    </tr>\n",
       "  </thead>\n",
       "  <tbody>\n",
       "    <tr>\n",
       "      <th>14466</th>\n",
       "      <td>www.akumenius.com</td>\n",
       "      <td>66.249.76.216</td>\n",
       "      <td>NaN</td>\n",
       "      <td>NaN</td>\n",
       "      <td>23/Feb/2014:12:31:57 +0100</td>\n",
       "      <td>GET /destinosCaracteristicas/hoteles-baratos-e...</td>\n",
       "      <td>200</td>\n",
       "      <td>9723.0</td>\n",
       "      <td>NaN</td>\n",
       "      <td>Mozilla/5.0 (compatible; Googlebot/2.1; +http:...</td>\n",
       "      <td>NaN</td>\n",
       "    </tr>\n",
       "    <tr>\n",
       "      <th>65651</th>\n",
       "      <td>localhost</td>\n",
       "      <td>127.0.0.1</td>\n",
       "      <td>NaN</td>\n",
       "      <td>NaN</td>\n",
       "      <td>24/Feb/2014:13:21:30 +0100</td>\n",
       "      <td>OPTIONS * HTTP/1.0</td>\n",
       "      <td>200</td>\n",
       "      <td>NaN</td>\n",
       "      <td>NaN</td>\n",
       "      <td>Apache (internal dummy connection)</td>\n",
       "      <td>NaN</td>\n",
       "    </tr>\n",
       "    <tr>\n",
       "      <th>95707</th>\n",
       "      <td>www.akumenius.com</td>\n",
       "      <td>80.58.250.92</td>\n",
       "      <td>NaN</td>\n",
       "      <td>NaN</td>\n",
       "      <td>25/Feb/2014:09:27:10 +0100</td>\n",
       "      <td>GET /modules/raton/views/themes/bcoos/images/c...</td>\n",
       "      <td>200</td>\n",
       "      <td>3770.0</td>\n",
       "      <td>http://www.akumenius.com/</td>\n",
       "      <td>Mozilla/5.0 (Windows NT 6.1; WOW64; rv:27.0) G...</td>\n",
       "      <td>NaN</td>\n",
       "    </tr>\n",
       "    <tr>\n",
       "      <th>43761</th>\n",
       "      <td>www.akumenius.com</td>\n",
       "      <td>180.76.5.17</td>\n",
       "      <td>NaN</td>\n",
       "      <td>NaN</td>\n",
       "      <td>24/Feb/2014:02:09:29 +0100</td>\n",
       "      <td>GET /destinos-baratos/destinosEstrelles/hotele...</td>\n",
       "      <td>200</td>\n",
       "      <td>8783.0</td>\n",
       "      <td>NaN</td>\n",
       "      <td>Mozilla/5.0 (compatible; Baiduspider/2.0; +htt...</td>\n",
       "      <td>NaN</td>\n",
       "    </tr>\n",
       "    <tr>\n",
       "      <th>178130</th>\n",
       "      <td>www.akumenius.com</td>\n",
       "      <td>84.77.142.252</td>\n",
       "      <td>NaN</td>\n",
       "      <td>NaN</td>\n",
       "      <td>26/Feb/2014:22:30:54 +0100</td>\n",
       "      <td>GET /includes/images/uploaded/Slideshow/ESC-RE...</td>\n",
       "      <td>200</td>\n",
       "      <td>42972.0</td>\n",
       "      <td>http://www.akumenius.com/</td>\n",
       "      <td>Mozilla/5.0 (Windows NT 6.1; WOW64) AppleWebKi...</td>\n",
       "      <td>NaN</td>\n",
       "    </tr>\n",
       "  </tbody>\n",
       "</table>\n",
       "</div>"
      ],
      "text/plain": [
       "               ServerName             IP  Identity UserID  \\\n",
       "14466   www.akumenius.com  66.249.76.216       NaN    NaN   \n",
       "65651           localhost      127.0.0.1       NaN    NaN   \n",
       "95707   www.akumenius.com   80.58.250.92       NaN    NaN   \n",
       "43761   www.akumenius.com    180.76.5.17       NaN    NaN   \n",
       "178130  www.akumenius.com  84.77.142.252       NaN    NaN   \n",
       "\n",
       "                          DateTime  \\\n",
       "14466   23/Feb/2014:12:31:57 +0100   \n",
       "65651   24/Feb/2014:13:21:30 +0100   \n",
       "95707   25/Feb/2014:09:27:10 +0100   \n",
       "43761   24/Feb/2014:02:09:29 +0100   \n",
       "178130  26/Feb/2014:22:30:54 +0100   \n",
       "\n",
       "                                                  Request  Status     Size  \\\n",
       "14466   GET /destinosCaracteristicas/hoteles-baratos-e...     200   9723.0   \n",
       "65651                                  OPTIONS * HTTP/1.0     200      NaN   \n",
       "95707   GET /modules/raton/views/themes/bcoos/images/c...     200   3770.0   \n",
       "43761   GET /destinos-baratos/destinosEstrelles/hotele...     200   8783.0   \n",
       "178130  GET /includes/images/uploaded/Slideshow/ESC-RE...     200  42972.0   \n",
       "\n",
       "                          Referer  \\\n",
       "14466                         NaN   \n",
       "65651                         NaN   \n",
       "95707   http://www.akumenius.com/   \n",
       "43761                         NaN   \n",
       "178130  http://www.akumenius.com/   \n",
       "\n",
       "                                                UserAgent  VLOG  \n",
       "14466   Mozilla/5.0 (compatible; Googlebot/2.1; +http:...   NaN  \n",
       "65651                  Apache (internal dummy connection)   NaN  \n",
       "95707   Mozilla/5.0 (Windows NT 6.1; WOW64; rv:27.0) G...   NaN  \n",
       "43761   Mozilla/5.0 (compatible; Baiduspider/2.0; +htt...   NaN  \n",
       "178130  Mozilla/5.0 (Windows NT 6.1; WOW64) AppleWebKi...   NaN  "
      ]
     },
     "execution_count": 10,
     "metadata": {},
     "output_type": "execute_result"
    }
   ],
   "source": [
    "pattern = r'(\\S+)\\s([0-9.]+|-)\\s(.+)\\s(.+)\\s\\[(.+)\\]\\s\\\"(.+)\\\"\\s(\\d+|-)\\s(\\d+|-)\\s\\\"(.+)\\\"\\s\\\"(.+)\\\"\\sVLOG=(.+)'\n",
    "\n",
    "kumenius_log = pd.read_csv('Web_access_log-akumenius.com.txt',\n",
    "              delimiter=pattern,\n",
    "              engine='python',\n",
    "              header=None,\n",
    "              index_col=False,\n",
    "              na_values=\"-\",\n",
    "              usecols = [*range(1, 12)],\n",
    "              names=['ServerName', 'IP', 'Identity', 'UserID','DateTime',\n",
    "                     'Request','Status','Size', 'Referer', 'UserAgent','VLOG' ],\n",
    "              )\n",
    "kumenius_log.sample(5)"
   ]
  },
  {
   "cell_type": "markdown",
   "id": "d9f2194f",
   "metadata": {},
   "source": [
    "_________"
   ]
  }
 ],
 "metadata": {
  "kernelspec": {
   "display_name": "Python 3",
   "language": "python",
   "name": "python3"
  },
  "language_info": {
   "codemirror_mode": {
    "name": "ipython",
    "version": 3
   },
   "file_extension": ".py",
   "mimetype": "text/x-python",
   "name": "python",
   "nbconvert_exporter": "python",
   "pygments_lexer": "ipython3",
   "version": "3.8.8"
  }
 },
 "nbformat": 4,
 "nbformat_minor": 5
}
